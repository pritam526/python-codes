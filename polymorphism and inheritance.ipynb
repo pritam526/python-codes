{
 "cells": [
  {
   "cell_type": "code",
   "execution_count": 1,
   "metadata": {},
   "outputs": [
    {
     "name": "stdout",
     "output_type": "stream",
     "text": [
      "ob2 is greater than ob1\n"
     ]
    }
   ],
   "source": [
    "#polymorphism\n",
    "class A: \n",
    "    def __init__(self, a): \n",
    "        self.a = a \n",
    "        \n",
    "    def __gt__(self, other): \n",
    "        if(self.a>other.a): \n",
    "            return True\n",
    "        else: \n",
    "            return False\n",
    "ob1 = A(2) \n",
    "ob2 = A(3) \n",
    "if(ob1>ob2): \n",
    "    print(\"ob1 is greater than ob2\") \n",
    "else: \n",
    "    print(\"ob2 is greater than ob1\")"
   ]
  },
  {
   "cell_type": "code",
   "execution_count": 31,
   "metadata": {},
   "outputs": [
    {
     "name": "stdout",
     "output_type": "stream",
     "text": [
      "True\n",
      "pritampurohit\n"
     ]
    }
   ],
   "source": [
    "class A:\n",
    "    def __init__(self,a):\n",
    "        self.a = a\n",
    "        \n",
    "    def __add__(self, other):\n",
    "        if (self.a + other.a):\n",
    "            return True\n",
    "        else:\n",
    "            return False\n",
    "        \n",
    "        \n",
    "ob1=A(2)\n",
    "ob2=A(5)\n",
    "ob3='pritam'\n",
    "ob4='purohit'\n",
    "print(ob1+ob2)\n",
    "print(ob3+ob4)\n",
    "            \n",
    "    "
   ]
  },
  {
   "cell_type": "code",
   "execution_count": 36,
   "metadata": {},
   "outputs": [
    {
     "name": "stdout",
     "output_type": "stream",
     "text": [
      "600\n",
      "im_gonna_be_aData_Scientist\n"
     ]
    }
   ],
   "source": [
    "class B:\n",
    "    def __init__(self,a):\n",
    "        self.a =a\n",
    "        \n",
    "        \n",
    "    def __add__(self,other):\n",
    "        return(self.a+other.a)\n",
    "    \n",
    "    \n",
    "ob1=100\n",
    "ob2=500\n",
    "ob3='im_gonna_be_a'\n",
    "ob4='Data_Scientist'\n",
    "print(ob1+ob2)\n",
    "print(ob3+ob4)"
   ]
  },
  {
   "cell_type": "code",
   "execution_count": 39,
   "metadata": {},
   "outputs": [
    {
     "name": "stdout",
     "output_type": "stream",
     "text": [
      "rohit scored higher than pranay\n"
     ]
    }
   ],
   "source": [
    "class students:\n",
    "    \n",
    "    def __init__(self,marks):\n",
    "        self.marks=marks\n",
    "        \n",
    "        \n",
    "    def __gt__(self,other):\n",
    "        if(self.marks>other.marks):\n",
    "            return True\n",
    "        else:\n",
    "            return False\n",
    "        \n",
    "rohit=students(95)\n",
    "pranay=students(65)\n",
    "\n",
    "if(rohit > pranay):\n",
    "    print('rohit scored higher than pranay')\n",
    "else:\n",
    "    print('pranay scored higher than rohit')\n",
    "        \n",
    "        "
   ]
  },
  {
   "cell_type": "code",
   "execution_count": 45,
   "metadata": {},
   "outputs": [
    {
     "name": "stdout",
     "output_type": "stream",
     "text": [
      "maruti is slower than hyundai\n"
     ]
    }
   ],
   "source": [
    "class car:\n",
    "    \n",
    "    def __init__(self,speed):\n",
    "        self.speed=speed\n",
    "        \n",
    "    def __lt__(self,other):\n",
    "        if (self.speed < other.speed):\n",
    "            return True\n",
    "        else:\n",
    "            return False\n",
    "        \n",
    "hyundai=car(80)\n",
    "maruti=car(100)\n",
    "if (maruti < hyundai):\n",
    "    print('hyundai is slower than maruti')\n",
    "else:\n",
    "    print('maruti is slower than hyundai')\n",
    "        "
   ]
  },
  {
   "cell_type": "code",
   "execution_count": 54,
   "metadata": {},
   "outputs": [
    {
     "name": "stdout",
     "output_type": "stream",
     "text": [
      "parrot can fly\n",
      "penguin cant fly\n"
     ]
    }
   ],
   "source": [
    "class parrot:  #polymorphism\n",
    "    \n",
    "    def fly(self):\n",
    "        print('parrot can fly')\n",
    "    def swim(self):\n",
    "        print('parrot cant swim')\n",
    "        \n",
    "class penguin:\n",
    "    \n",
    "    def fly(self):\n",
    "        print('penguin cant fly')\n",
    "    def swim(self):\n",
    "        print('penguin can swim')\n",
    "        \n",
    "        \n",
    "        \n",
    "def fly_test(bird):\n",
    "    bird.fly()\n",
    "def swim_test(bird):\n",
    "    bird.swim()\n",
    "    \n",
    "    \n",
    "poga=parrot()\n",
    "peggy=penguin()\n",
    "\n",
    "fly_test(poga)\n",
    "fly_test(peggy)\n",
    "    \n"
   ]
  },
  {
   "cell_type": "code",
   "execution_count": 55,
   "metadata": {},
   "outputs": [
    {
     "name": "stdout",
     "output_type": "stream",
     "text": [
      "parrot cant swim\n",
      "penguin can swim\n"
     ]
    }
   ],
   "source": [
    "swim_test(poga)\n",
    "swim_test(peggy)"
   ]
  },
  {
   "cell_type": "code",
   "execution_count": 58,
   "metadata": {},
   "outputs": [
    {
     "name": "stdout",
     "output_type": "stream",
     "text": [
      "runs slower than expected\n",
      "runs faster than expected\n"
     ]
    }
   ],
   "source": [
    "class ios:\n",
    "    def battery_backup(self):\n",
    "        print('runs slower than expected')\n",
    "    def overall_performance(self):\n",
    "        print('runs faster than expected')\n",
    "        \n",
    "        \n",
    "class android:\n",
    "    def battery_backup(self):\n",
    "        print('runs faster than expected')\n",
    "    def overall_performance(self):\n",
    "        print('runs slower than expected')\n",
    "        \n",
    "        \n",
    "def battery_backup_test(mobile):\n",
    "    mobile.battery_backup()\n",
    "def overall_performance_test(mobile):\n",
    "    mobile.overall_performance()\n",
    "    \n",
    "    \n",
    "iphoneX=ios()\n",
    "one_plus=android()\n",
    "\n",
    "battery_backup_test(iphoneX)\n",
    "overall_performance_test(iphoneX)\n",
    "        \n",
    "        "
   ]
  },
  {
   "cell_type": "code",
   "execution_count": 59,
   "metadata": {},
   "outputs": [
    {
     "name": "stdout",
     "output_type": "stream",
     "text": [
      "runs faster than expected\n",
      "runs slower than expected\n"
     ]
    }
   ],
   "source": [
    "battery_backup_test(one_plus)\n",
    "overall_performance_test(one_plus)"
   ]
  },
  {
   "cell_type": "code",
   "execution_count": null,
   "metadata": {},
   "outputs": [],
   "source": []
  },
  {
   "cell_type": "code",
   "execution_count": null,
   "metadata": {},
   "outputs": [],
   "source": []
  },
  {
   "cell_type": "code",
   "execution_count": null,
   "metadata": {},
   "outputs": [],
   "source": []
  },
  {
   "cell_type": "code",
   "execution_count": null,
   "metadata": {},
   "outputs": [],
   "source": []
  },
  {
   "cell_type": "code",
   "execution_count": null,
   "metadata": {},
   "outputs": [],
   "source": []
  },
  {
   "cell_type": "code",
   "execution_count": null,
   "metadata": {},
   "outputs": [],
   "source": []
  },
  {
   "cell_type": "code",
   "execution_count": null,
   "metadata": {},
   "outputs": [],
   "source": []
  },
  {
   "cell_type": "code",
   "execution_count": null,
   "metadata": {},
   "outputs": [],
   "source": []
  },
  {
   "cell_type": "code",
   "execution_count": null,
   "metadata": {},
   "outputs": [],
   "source": []
  },
  {
   "cell_type": "code",
   "execution_count": null,
   "metadata": {},
   "outputs": [],
   "source": []
  },
  {
   "cell_type": "code",
   "execution_count": null,
   "metadata": {},
   "outputs": [],
   "source": []
  },
  {
   "cell_type": "code",
   "execution_count": null,
   "metadata": {},
   "outputs": [],
   "source": []
  },
  {
   "cell_type": "code",
   "execution_count": null,
   "metadata": {},
   "outputs": [],
   "source": []
  },
  {
   "cell_type": "code",
   "execution_count": null,
   "metadata": {},
   "outputs": [],
   "source": []
  },
  {
   "cell_type": "code",
   "execution_count": null,
   "metadata": {},
   "outputs": [],
   "source": []
  },
  {
   "cell_type": "code",
   "execution_count": null,
   "metadata": {},
   "outputs": [],
   "source": []
  },
  {
   "cell_type": "code",
   "execution_count": null,
   "metadata": {},
   "outputs": [],
   "source": []
  },
  {
   "cell_type": "code",
   "execution_count": null,
   "metadata": {},
   "outputs": [],
   "source": []
  },
  {
   "cell_type": "code",
   "execution_count": null,
   "metadata": {},
   "outputs": [],
   "source": []
  },
  {
   "cell_type": "code",
   "execution_count": null,
   "metadata": {},
   "outputs": [],
   "source": []
  },
  {
   "cell_type": "code",
   "execution_count": null,
   "metadata": {},
   "outputs": [],
   "source": []
  },
  {
   "cell_type": "code",
   "execution_count": null,
   "metadata": {},
   "outputs": [],
   "source": []
  },
  {
   "cell_type": "code",
   "execution_count": null,
   "metadata": {},
   "outputs": [],
   "source": []
  },
  {
   "cell_type": "code",
   "execution_count": null,
   "metadata": {},
   "outputs": [],
   "source": []
  },
  {
   "cell_type": "code",
   "execution_count": null,
   "metadata": {},
   "outputs": [],
   "source": []
  }
 ],
 "metadata": {
  "kernelspec": {
   "display_name": "Python 3",
   "language": "python",
   "name": "python3"
  },
  "language_info": {
   "codemirror_mode": {
    "name": "ipython",
    "version": 3
   },
   "file_extension": ".py",
   "mimetype": "text/x-python",
   "name": "python",
   "nbconvert_exporter": "python",
   "pygments_lexer": "ipython3",
   "version": "3.7.4"
  }
 },
 "nbformat": 4,
 "nbformat_minor": 2
}
